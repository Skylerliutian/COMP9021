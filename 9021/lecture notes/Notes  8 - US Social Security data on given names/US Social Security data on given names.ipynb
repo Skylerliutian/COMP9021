{
 "cells": [
  {
   "cell_type": "code",
   "execution_count": 1,
   "metadata": {},
   "outputs": [],
   "source": [
    "# Does not need to be executed if ~/.ipython/profile_default/ipython_config.py\n",
    "# exists and contains get_config().InteractiveShell.ast_node_interactivity = 'all'\n",
    "\n",
    "from IPython.core.interactiveshell import InteractiveShell\n",
    "InteractiveShell.ast_node_interactivity = 'all'"
   ]
  },
  {
   "cell_type": "code",
   "execution_count": 2,
   "metadata": {
    "init_cell": true
   },
   "outputs": [],
   "source": [
    "from pathlib import Path\n",
    "import os\n",
    "import csv\n",
    "from collections import defaultdict"
   ]
  },
  {
   "cell_type": "markdown",
   "metadata": {},
   "source": [
    "Downloaded from https://www.ssa.gov/OACT/babynames/limits.html, the `names` directory contains, besides `NationalReadMe.pdf`, files whose names are of the form `yob****.txt` with \"yob\" standing for \"year of birth\" and `****` ranging from `1880` to `2017`. These are csv files, with \"csv\" standing for \"comma separated values\": each line consists of 3 fields: a first name, `F` or `M` for female or male, respectively, and a strictly positive integer for the count of newborns who have been given that name in the year whose value is embedded in the file name. All female names are listed before all male names. For a given gender, data are listed in decreasing order of count. For a given gender and count, names are listed in alphabetical order. For instance, for the oldest year, here are the first 10 lines:"
   ]
  },
  {
   "cell_type": "code",
   "execution_count": 3,
   "metadata": {},
   "outputs": [
    {
     "name": "stdout",
     "output_type": "stream",
     "text": [
      "Mary,F,7065\r",
      "\r\n",
      "Anna,F,2604\r",
      "\r\n",
      "Emma,F,2003\r",
      "\r\n",
      "Elizabeth,F,1939\r",
      "\r\n",
      "Minnie,F,1746\r",
      "\r\n",
      "Margaret,F,1578\r",
      "\r\n",
      "Ida,F,1472\r",
      "\r\n",
      "Alice,F,1414\r",
      "\r\n",
      "Bertha,F,1320\r",
      "\r\n",
      "Sarah,F,1288\r",
      "\r\n"
     ]
    }
   ],
   "source": [
    "!head names/yob1880.txt"
   ]
  },
  {
   "cell_type": "markdown",
   "metadata": {},
   "source": [
    "And here are the last 10 lines:"
   ]
  },
  {
   "cell_type": "code",
   "execution_count": 4,
   "metadata": {},
   "outputs": [
    {
     "name": "stdout",
     "output_type": "stream",
     "text": [
      "Unknown,M,5\r",
      "\r\n",
      "Vann,M,5\r",
      "\r\n",
      "Wes,M,5\r",
      "\r\n",
      "Winston,M,5\r",
      "\r\n",
      "Wood,M,5\r",
      "\r\n",
      "Woodie,M,5\r",
      "\r\n",
      "Worthy,M,5\r",
      "\r\n",
      "Wright,M,5\r",
      "\r\n",
      "York,M,5\r",
      "\r\n",
      "Zachariah,M,5\r",
      "\r\n"
     ]
    }
   ],
   "source": [
    "!tail names/yob1880.txt"
   ]
  },
  {
   "cell_type": "markdown",
   "metadata": {},
   "source": [
    "Our first task is to reorganise the data: create a directory `names_per_gender`, create two subdirectories, `female` and `male`, of `names_per_gender`, and in each of both subdirectories and for each `.txt` file $F$ in `names`, create a copy of $F$ such that:\n",
    "\n",
    "* the copy of $F$ in the `female` subdirectory will consist of the lines for all female names in $F$ with only 2 fields, namely, first name and count, so without `F`, the second field;\n",
    "* the copy of $F$ in the `male` subdirectory will consist of the lines for all male names in $F$ with only 2 fields, namely, first name and count, so without `M`, the second field.\n",
    "\n",
    "To work with directories and files in a platform independent manner, the `Path` class from the `pathlib` module is appropriate. One can create `Path` objects from directory and file names and check whether they exist with `Path`'s `exists()` method. Given a `Path` object $P$ for a directory $D$, `Path` objects for subdirectories of $D$ or for files in $D$ can be created with the `/` operator, with as first and second operands, $P$ and the subdirectory or file name, respectively; `/` will produce path names with a separator that is appropriate for the operating system on which code is executed:"
   ]
  },
  {
   "cell_type": "code",
   "execution_count": 5,
   "metadata": {},
   "outputs": [
    {
     "data": {
      "text/plain": [
       "(PosixPath('names'), True)"
      ]
     },
     "execution_count": 5,
     "metadata": {},
     "output_type": "execute_result"
    },
    {
     "data": {
      "text/plain": [
       "(PosixPath('names/yob1880.txt'), True)"
      ]
     },
     "execution_count": 5,
     "metadata": {},
     "output_type": "execute_result"
    },
    {
     "data": {
      "text/plain": [
       "(PosixPath('nonexisting'), False)"
      ]
     },
     "execution_count": 5,
     "metadata": {},
     "output_type": "execute_result"
    },
    {
     "data": {
      "text/plain": [
       "(PosixPath('names/yob1800.txt'), False)"
      ]
     },
     "execution_count": 5,
     "metadata": {},
     "output_type": "execute_result"
    }
   ],
   "source": [
    "Path('names'), Path('names').exists()\n",
    "Path('names') / 'yob1880.txt', (Path('names') / 'yob1880.txt').exists()\n",
    "Path('nonexisting'), Path('nonexisting').exists()\n",
    "Path('names') / 'yob1800.txt', (Path('names') / 'yob1800.txt').exists()"
   ]
  },
  {
   "cell_type": "markdown",
   "metadata": {},
   "source": [
    "We first create a `Path` object for the existing `names` directory, for the to be created `names_per_gender` directory, and for the to be created `female` and `male` subdirectories of `names_per_gender`:"
   ]
  },
  {
   "cell_type": "code",
   "execution_count": 6,
   "metadata": {},
   "outputs": [],
   "source": [
    "names_dirname = Path('names')\n",
    "names_per_gender_dirname = Path('names_per_gender')\n",
    "female_subdirname = names_per_gender_dirname / 'female'\n",
    "male_subdirname = names_per_gender_dirname / 'male'"
   ]
  },
  {
   "cell_type": "markdown",
   "metadata": {},
   "source": [
    "The `exists()` function from the `path` module of the `os` module also allows one to check whether a directory or file exists. That module has other useful functions, in particular:\n",
    "\n",
    "* `removedirs()`, to remove an empty directory;\n",
    "* `mkdir()`, to create (make) a directory that does not already exist.\n",
    "\n",
    "For instance, if the `names_per_gender` directory existed, contained `female` and `male` and no other subdirectories, and both `female` and `male` were empty directories, then the following code fragment would successfully\n",
    "\n",
    "* remove the `female` directory,\n",
    "* remove the `male` directory, and\n",
    "* remove the then empty `names_per_gender` directory.\n",
    "\n",
    "That would allow the next three calls to `os.mkdir()` to execute successfully, without a `FileExistsError` error to be raised:"
   ]
  },
  {
   "cell_type": "code",
   "execution_count": 7,
   "metadata": {},
   "outputs": [
    {
     "ename": "FileNotFoundError",
     "evalue": "[Errno 2] No such file or directory: 'names_per_gender/female'",
     "output_type": "error",
     "traceback": [
      "\u001b[0;31m---------------------------------------------------------------------------\u001b[0m",
      "\u001b[0;31mFileNotFoundError\u001b[0m                         Traceback (most recent call last)",
      "\u001b[0;32m<ipython-input-7-9767e547a926>\u001b[0m in \u001b[0;36m<module>\u001b[0;34m\u001b[0m\n\u001b[1;32m      1\u001b[0m \u001b[0;32mif\u001b[0m \u001b[0mos\u001b[0m\u001b[0;34m.\u001b[0m\u001b[0mpath\u001b[0m\u001b[0;34m.\u001b[0m\u001b[0mexists\u001b[0m\u001b[0;34m(\u001b[0m\u001b[0mnames_per_gender_dirname\u001b[0m\u001b[0;34m)\u001b[0m\u001b[0;34m:\u001b[0m\u001b[0;34m\u001b[0m\u001b[0;34m\u001b[0m\u001b[0m\n\u001b[0;32m----> 2\u001b[0;31m     \u001b[0mos\u001b[0m\u001b[0;34m.\u001b[0m\u001b[0mremovedirs\u001b[0m\u001b[0;34m(\u001b[0m\u001b[0mfemale_subdirname\u001b[0m\u001b[0;34m)\u001b[0m\u001b[0;34m\u001b[0m\u001b[0;34m\u001b[0m\u001b[0m\n\u001b[0m\u001b[1;32m      3\u001b[0m     \u001b[0mos\u001b[0m\u001b[0;34m.\u001b[0m\u001b[0mremovedirs\u001b[0m\u001b[0;34m(\u001b[0m\u001b[0mmale_subdirname\u001b[0m\u001b[0;34m)\u001b[0m\u001b[0;34m\u001b[0m\u001b[0;34m\u001b[0m\u001b[0m\n\u001b[1;32m      4\u001b[0m     \u001b[0mos\u001b[0m\u001b[0;34m.\u001b[0m\u001b[0mremovedirs\u001b[0m\u001b[0;34m(\u001b[0m\u001b[0mnames_per_gender_dirname\u001b[0m\u001b[0;34m)\u001b[0m\u001b[0;34m\u001b[0m\u001b[0;34m\u001b[0m\u001b[0m\n\u001b[1;32m      5\u001b[0m \u001b[0mos\u001b[0m\u001b[0;34m.\u001b[0m\u001b[0mmkdir\u001b[0m\u001b[0;34m(\u001b[0m\u001b[0mnames_per_gender_dirname\u001b[0m\u001b[0;34m)\u001b[0m\u001b[0;34m\u001b[0m\u001b[0;34m\u001b[0m\u001b[0m\n",
      "\u001b[0;32m/Library/Frameworks/Python.framework/Versions/3.7/lib/python3.7/os.py\u001b[0m in \u001b[0;36mremovedirs\u001b[0;34m(name)\u001b[0m\n\u001b[1;32m    237\u001b[0m \u001b[0;34m\u001b[0m\u001b[0m\n\u001b[1;32m    238\u001b[0m     \"\"\"\n\u001b[0;32m--> 239\u001b[0;31m     \u001b[0mrmdir\u001b[0m\u001b[0;34m(\u001b[0m\u001b[0mname\u001b[0m\u001b[0;34m)\u001b[0m\u001b[0;34m\u001b[0m\u001b[0;34m\u001b[0m\u001b[0m\n\u001b[0m\u001b[1;32m    240\u001b[0m     \u001b[0mhead\u001b[0m\u001b[0;34m,\u001b[0m \u001b[0mtail\u001b[0m \u001b[0;34m=\u001b[0m \u001b[0mpath\u001b[0m\u001b[0;34m.\u001b[0m\u001b[0msplit\u001b[0m\u001b[0;34m(\u001b[0m\u001b[0mname\u001b[0m\u001b[0;34m)\u001b[0m\u001b[0;34m\u001b[0m\u001b[0;34m\u001b[0m\u001b[0m\n\u001b[1;32m    241\u001b[0m     \u001b[0;32mif\u001b[0m \u001b[0;32mnot\u001b[0m \u001b[0mtail\u001b[0m\u001b[0;34m:\u001b[0m\u001b[0;34m\u001b[0m\u001b[0;34m\u001b[0m\u001b[0m\n",
      "\u001b[0;31mFileNotFoundError\u001b[0m: [Errno 2] No such file or directory: 'names_per_gender/female'"
     ]
    }
   ],
   "source": [
    "if os.path.exists(names_per_gender_dirname):\n",
    "    os.removedirs(female_subdirname)\n",
    "    os.removedirs(male_subdirname)\n",
    "    os.removedirs(names_per_gender_dirname)\n",
    "os.mkdir(names_per_gender_dirname)\n",
    "os.mkdir(female_subdirname)\n",
    "os.mkdir(male_subdirname)"
   ]
  },
  {
   "cell_type": "markdown",
   "metadata": {},
   "source": [
    "We need to process all files in `names` except for `NationalReadMe.pdf`. We could use the `listdir()` function from the `os` module to list all files in `names` and ignore files not ending in `.txt`:"
   ]
  },
  {
   "cell_type": "code",
   "execution_count": 8,
   "metadata": {},
   "outputs": [
    {
     "name": "stdout",
     "output_type": "stream",
     "text": [
      "NationalReadMe.pdf\n"
     ]
    }
   ],
   "source": [
    "for file in os.listdir(names_dirname):\n",
    "    if not file.endswith('.txt'):\n",
    "        print(file)"
   ]
  },
  {
   "cell_type": "markdown",
   "metadata": {},
   "source": [
    "Thanks to the `glob()` method of the `Path` class, we can instead generate only the file names of interest. This method uses Unix syntax to create patterns and match file and directory names:\n",
    "\n",
    "* `*` to match a (possibly empty) sequence of characters\n",
    "* `?` to mach a single character\n",
    "* square brackets to enclose the characters to match.\n",
    "\n",
    "The following statements illustrate:"
   ]
  },
  {
   "cell_type": "code",
   "execution_count": 9,
   "metadata": {},
   "outputs": [
    {
     "data": {
      "text/plain": [
       "[PosixPath('names/yob2017.txt'), PosixPath('names/yob1917.txt')]"
      ]
     },
     "execution_count": 9,
     "metadata": {},
     "output_type": "execute_result"
    },
    {
     "data": {
      "text/plain": [
       "[PosixPath('names/yob2017.txt'), PosixPath('names/yob2007.txt')]"
      ]
     },
     "execution_count": 9,
     "metadata": {},
     "output_type": "execute_result"
    },
    {
     "data": {
      "text/plain": [
       "[PosixPath('names/yob2015.txt'),\n",
       " PosixPath('names/yob2017.txt'),\n",
       " PosixPath('names/yob2003.txt'),\n",
       " PosixPath('names/yob2007.txt'),\n",
       " PosixPath('names/yob2013.txt'),\n",
       " PosixPath('names/yob2005.txt')]"
      ]
     },
     "execution_count": 9,
     "metadata": {},
     "output_type": "execute_result"
    }
   ],
   "source": [
    "list(names_dirname.glob('*17*'))\n",
    "list(names_dirname.glob('*2??7*'))\n",
    "list(names_dirname.glob('*2??[357]*'))"
   ]
  },
  {
   "cell_type": "markdown",
   "metadata": {},
   "source": [
    "To extract the values  of a csv file, one can of course open the file, read it line by line, and split each line using the comma as separator, but it is cleaner and more robust to instead, let the object returned by `open()` be the argument of the `reader()` function of the `csv` module; that function returns an iterator to generate for each line in the file, the tuple of values on that line. The following code fragment illustrates, printing out all lines in `yob1880.txt` for counts of female or male name greater than 2000: "
   ]
  },
  {
   "cell_type": "code",
   "execution_count": 12,
   "metadata": {},
   "outputs": [
    {
     "name": "stdout",
     "output_type": "stream",
     "text": [
      "Mary F 7065\n",
      "Anna F 2604\n",
      "Emma F 2003\n",
      "John M 9655\n",
      "William M 9532\n",
      "James M 5927\n",
      "Charles M 5348\n",
      "George M 5126\n",
      "Frank M 3242\n",
      "Joseph M 2632\n",
      "Thomas M 2534\n",
      "Henry M 2444\n",
      "Robert M 2415\n",
      "Edward M 2364\n",
      "Harry M 2152\n"
     ]
    }
   ],
   "source": [
    "with open(names_dirname / 'yob1880.txt') as file:\n",
    "    csv_file = csv.reader(file)\n",
    "    for i in csv_file:\n",
    "        if int(i[2]) > 2_000:\n",
    "            print(i[0], i[1], i[2])"
   ]
  },
  {
   "cell_type": "markdown",
   "metadata": {},
   "source": [
    "A file such as `yob1880.txt` is to be processed as one of the files in `names` whose paths are generated by `glob()` applied to `names_dirname`. Names and counts extracted from the rows in `yob1880.txt` are to be written to one of both files with the name `yob1880.txt` located in the `female` and `male` subdirectories of `names_per_gender`. Thanks to the `name` attribute of a `Path` object, the paths to both files are conveniently created from the path to `yob1880.txt` in `names`:"
   ]
  },
  {
   "cell_type": "code",
   "execution_count": null,
   "metadata": {},
   "outputs": [],
   "source": [
    "filename = next(names_dirname.glob('*1880*'))\n",
    "\n",
    "filename\n",
    "filename.parent\n",
    "filename.name\n",
    "female_subdirname / filename.name\n",
    "male_subdirname / filename.name"
   ]
  },
  {
   "cell_type": "markdown",
   "metadata": {},
   "source": [
    "For each `.txt` file $F$ in `names`, we open, with a single `with` statement, $F$ for reading purposes, and two files $F_F$ and $F_M$ with the same name as $F$ in the subdirectories `female` and `male` of `names_per_gender`, respectively, for writing purposes, with the paths to $F_F$ and $F_M$ created as just described. In parallel to making use of `csv.reader()`, we make use of `csv.writer()` to write rows of data in a csv file, with successive values properly separated with commas. The dictionary `csv_file_per_gender` allows one to choose which one of $F_F$ or $F_M$ should be written to. In the last line of the following code fragment, the only purpose of the assignment to `_` is to suppress Jupyter output: "
   ]
  },
  {
   "cell_type": "code",
   "execution_count": null,
   "metadata": {},
   "outputs": [],
   "source": [
    "for filename in names_dirname.glob('*.txt'):\n",
    "    with open(filename) as file,\\\n",
    "         open(female_subdirname / filename.name, 'w') as female_file,\\\n",
    "         open(male_subdirname / filename.name, 'w') as male_file:\n",
    "        csv_file = csv.reader(file)\n",
    "        female_csv_file = csv.writer(female_file)\n",
    "        male_csv_file = csv.writer(male_file)\n",
    "        csv_file_per_gender = {'F': female_csv_file, 'M': male_csv_file}\n",
    "        for name, gender, tally in csv_file:\n",
    "            _ = csv_file_per_gender[gender].writerow((name, tally))"
   ]
  },
  {
   "cell_type": "markdown",
   "metadata": {},
   "source": [
    "Our second task is to find out the longest intervals of time that separate the years $Y_1$ and $Y_2$ when a name was given (as a male or female name) in both $Y_1$ and $Y_2$, but not in-between. We would like to output the top 10 longest intervals together with the years that start and end the interval, and together with the name that was \"forgotten and revived\" in that time interval.\n",
    "\n",
    "To this aim, it is convenient to create a dictionary whose keys are names, with for a given key $N$, the list of years, from oldest to most recent, when $N$ was given once at least. For instance, here are the years when `Franc` was given as a name:"
   ]
  },
  {
   "cell_type": "code",
   "execution_count": null,
   "metadata": {},
   "outputs": [],
   "source": [
    "!grep ^Franc, names/*"
   ]
  },
  {
   "cell_type": "markdown",
   "metadata": {},
   "source": [
    "So `'Franc'` should be one of the keys, with as value `[1882, 1883, 2001, 2002, 2013]`.\n",
    "\n",
    "Years will be added one by one to the lists of values as files are processed one by one. Using a simple dictionary, one has to distinguish between creating a key and a value, that should be a list with a single year, and adding a new year to the list that is the value of an existing key:"
   ]
  },
  {
   "cell_type": "code",
   "execution_count": null,
   "metadata": {},
   "outputs": [],
   "source": [
    "name = 'Franc'\n",
    "years_per_name = {}\n",
    "for year in 1882, 1883, 2001, 2002, 2003:\n",
    "    if not name in years_per_name:\n",
    "        years_per_name[name] = [year]\n",
    "        print(f'Processing year {year}: '\n",
    "              f'creating key \"{name}\" and value [{year}]'\n",
    "             )\n",
    "    else:\n",
    "        years_per_name[name].append(year)\n",
    "        print(f'Processing year {year}: '\n",
    "              f'appending {year} to value for key \"{name}\"'\n",
    "             )\n",
    "\n",
    "years_per_name"
   ]
  },
  {
   "cell_type": "markdown",
   "metadata": {},
   "source": [
    "A `KeyError` error is generated when trying to access a nonexisting key:"
   ]
  },
  {
   "cell_type": "code",
   "execution_count": null,
   "metadata": {},
   "outputs": [],
   "source": [
    "name = 'Franc'\n",
    "years_per_name = {}\n",
    "years_per_name[name]"
   ]
  },
  {
   "cell_type": "markdown",
   "metadata": {},
   "source": [
    "When using a `defaultdict` from the `collections` module, trying to access a nonexisting key creates the key, together with the default value for the class provided as argument to `defaultdict`:"
   ]
  },
  {
   "cell_type": "code",
   "execution_count": null,
   "metadata": {},
   "outputs": [],
   "source": [
    "name = 'Franc'\n",
    "\n",
    "years_per_name = defaultdict(int)\n",
    "print('Creating a key with 0 as default value:')\n",
    "years_per_name[name];\n",
    "years_per_name\n",
    "print('Creating a key with 0 as default value, immediately modified:')\n",
    "years_per_name = defaultdict(int)\n",
    "years_per_name[name] += 2; years_per_name\n",
    "\n",
    "years_per_name = defaultdict(list)\n",
    "print('Creating a key with [] as default value:')\n",
    "years_per_name[name]\n",
    "years_per_name\n",
    "print('Creating a key with [] as default value, immediately modified:')\n",
    "years_per_name[name].append(1882); years_per_name"
   ]
  },
  {
   "cell_type": "markdown",
   "metadata": {},
   "source": [
    "Thanks to default dictionaries, the key `'Franc'` can be created and years incrementally added to the value list as follows:"
   ]
  },
  {
   "cell_type": "code",
   "execution_count": null,
   "metadata": {},
   "outputs": [],
   "source": [
    "name = 'Franc'\n",
    "years_per_name = defaultdict(list)\n",
    "for year in 1882, 1883, 2001, 2002, 2003:\n",
    "    years_per_name[name].append(year)\n",
    "\n",
    "years_per_name"
   ]
  },
  {
   "cell_type": "markdown",
   "metadata": {},
   "source": [
    "Extracting years from filenames is easy:"
   ]
  },
  {
   "cell_type": "code",
   "execution_count": null,
   "metadata": {},
   "outputs": [],
   "source": [
    "int('yob1880.txt'[3: 7])"
   ]
  },
  {
   "cell_type": "markdown",
   "metadata": {},
   "source": [
    "So creating the full dictionary can be done as follows; we only have to beware that `glob()` does not return the file names in alphabetical order, so we use `sorted()` as it is essential that the years that make up the value of a given key of `years_per_name` are sorted from oldest to most recent:"
   ]
  },
  {
   "cell_type": "code",
   "execution_count": null,
   "metadata": {},
   "outputs": [],
   "source": [
    "years_per_name = defaultdict(list)\n",
    "for filename in sorted(names_dirname.glob('*.txt')):\n",
    "    year = int(filename.name[3: 7])\n",
    "    with open(filename) as file:\n",
    "        csv_file = csv.reader(file)\n",
    "        for name, _, _ in csv_file:\n",
    "            years_per_name[name].append(year)\n",
    "\n",
    "years_per_name['Franc']"
   ]
  },
  {
   "cell_type": "markdown",
   "metadata": {},
   "source": [
    "From `years_per_name`, we can create a list of triples of the form $(D, Y, N)$ where $D$ is a year difference, $Y$ is a year that starts a year difference of $D$ (to which $D$ can be added and yield the year that ends the year difference), and $N$ is a name that was given in year $Y$ and only $D$ years later:"
   ]
  },
  {
   "cell_type": "code",
   "execution_count": null,
   "metadata": {},
   "outputs": [],
   "source": [
    "revivals = [[years_per_name[name][i + 1] - years_per_name[name][i],\n",
    "             years_per_name[name][i],\n",
    "             name\n",
    "            ] for name in years_per_name\n",
    "              for i in range(len(years_per_name[name]) - 1)\n",
    "           ]\n",
    "\n",
    "[revival for revival in revivals if revival[0] == 2001 - 1883]"
   ]
  },
  {
   "cell_type": "markdown",
   "metadata": {},
   "source": [
    "Sorting `revivals` in reversed order results in a list where:\n",
    "\n",
    "* year differences are ordered from largest to smallest;\n",
    "* for a given year difference, years that start the year difference are ordered from most recent to oldest;\n",
    "* for a given year difference and year that starts the year difference, names are ordered in anti-lexicographic order:"
   ]
  },
  {
   "cell_type": "code",
   "execution_count": null,
   "metadata": {},
   "outputs": [],
   "source": [
    "revivals.sort(reverse = True)\n",
    "for i in range(10):\n",
    "    print(f'{revivals[i][2]} was last used in {revivals[i][1]} '\n",
    "          f'and then again in {revivals[i][1] + revivals[i][0]}, '\n",
    "          f'{revivals[i][0]} years later.'\n",
    "         )"
   ]
  },
  {
   "cell_type": "code",
   "execution_count": null,
   "metadata": {},
   "outputs": [],
   "source": []
  },
  {
   "cell_type": "code",
   "execution_count": 7,
   "metadata": {},
   "outputs": [
    {
     "name": "stdout",
     "output_type": "stream",
     "text": [
      "1\n"
     ]
    }
   ],
   "source": [
    "L=[123]\n",
    "print(len(L))"
   ]
  },
  {
   "cell_type": "code",
   "execution_count": 8,
   "metadata": {},
   "outputs": [
    {
     "data": {
      "text/plain": [
       "'/Users/skyler/Desktop/9021/Notes  8 - US Social Security data on given names'"
      ]
     },
     "execution_count": 8,
     "metadata": {},
     "output_type": "execute_result"
    }
   ],
   "source": [
    "import os\n",
    "os.getcwd()"
   ]
  },
  {
   "cell_type": "code",
   "execution_count": 39,
   "metadata": {},
   "outputs": [],
   "source": [
    "os.mkdir('names_per_gender')"
   ]
  },
  {
   "cell_type": "code",
   "execution_count": 36,
   "metadata": {},
   "outputs": [],
   "source": [
    "os.rmdir('names_per_gender')"
   ]
  },
  {
   "cell_type": "code",
   "execution_count": 40,
   "metadata": {},
   "outputs": [],
   "source": [
    "os.mkdir('names_per_gender/female')"
   ]
  },
  {
   "cell_type": "code",
   "execution_count": 42,
   "metadata": {},
   "outputs": [],
   "source": [
    "\n",
    "#os.mkdir('names_per_gender/female')\n",
    "os.mkdir('names_per_gender/male')\n"
   ]
  },
  {
   "cell_type": "code",
   "execution_count": 33,
   "metadata": {},
   "outputs": [
    {
     "name": "stdout",
     "output_type": "stream",
     "text": [
      "<class 'pathlib.PosixPath'>\n",
      "<class 'pathlib.PosixPath'> names_per_gender/males\n"
     ]
    }
   ],
   "source": [
    "from pathlib import Path\n",
    "names_per_gender_dir = Path('names_per_gender')\n",
    "print(type(names_per_gender_dir))\n",
    "males_dir = names_per_gender_dir / 'males'\n",
    "print(type(males_dir),males_dir)"
   ]
  },
  {
   "cell_type": "code",
   "execution_count": 34,
   "metadata": {},
   "outputs": [
    {
     "name": "stdout",
     "output_type": "stream",
     "text": [
      "yob2000.txt\n",
      "yob2014.txt\n",
      "yob1938.txt\n",
      "yob1910.txt\n",
      "yob1904.txt\n",
      "yob1905.txt\n",
      "yob1911.txt\n",
      "yob1939.txt\n",
      "yob2015.txt\n",
      "yob2001.txt\n",
      "yob2017.txt\n",
      "yob2003.txt\n",
      "yob1907.txt\n",
      "yob1913.txt\n",
      "yob1898.txt\n",
      "yob1899.txt\n",
      "yob1912.txt\n",
      "yob1906.txt\n",
      "yob2002.txt\n",
      "yob2016.txt\n",
      "yob2012.txt\n",
      "yob2006.txt\n",
      "yob1902.txt\n",
      "yob1916.txt\n",
      "yob1889.txt\n",
      "yob1888.txt\n",
      "yob1917.txt\n",
      "yob1903.txt\n",
      "yob2007.txt\n",
      "yob2013.txt\n",
      "yob2005.txt\n",
      "yob2011.txt\n",
      "yob1915.txt\n",
      "yob1901.txt\n",
      "yob1929.txt\n",
      "yob1928.txt\n",
      "yob1900.txt\n",
      "yob1914.txt\n",
      "yob2010.txt\n",
      "yob2004.txt\n",
      "yob1973.txt\n",
      "yob1967.txt\n",
      "yob1998.txt\n",
      "yob1999.txt\n",
      "yob1966.txt\n",
      "yob1972.txt\n",
      "yob1958.txt\n",
      "yob1964.txt\n",
      "yob1970.txt\n",
      "yob1971.txt\n",
      "yob1965.txt\n",
      "yob1959.txt\n",
      "yob1961.txt\n",
      "yob1975.txt\n",
      "yob1949.txt\n",
      "yob1948.txt\n",
      "yob1974.txt\n",
      "yob1960.txt\n",
      "yob1976.txt\n",
      "yob1962.txt\n",
      "yob1989.txt\n",
      "yob1988.txt\n",
      "yob1963.txt\n",
      "yob1977.txt\n",
      "yob1952.txt\n",
      "yob1946.txt\n",
      "yob1991.txt\n",
      "yob1985.txt\n",
      "yob1984.txt\n",
      "yob1990.txt\n",
      "yob1947.txt\n",
      "yob1953.txt\n",
      "yob1979.txt\n",
      "yob1945.txt\n",
      "yob1951.txt\n",
      "yob1986.txt\n",
      "yob1992.txt\n",
      "yob1993.txt\n",
      "yob1987.txt\n",
      "yob1950.txt\n",
      "yob1944.txt\n",
      "yob1978.txt\n",
      "yob1940.txt\n",
      "yob1954.txt\n",
      "yob1968.txt\n",
      "yob1983.txt\n",
      "yob1997.txt\n",
      "yob1996.txt\n",
      "yob1982.txt\n",
      "yob1969.txt\n",
      "yob1955.txt\n",
      "yob1941.txt\n",
      "yob1957.txt\n",
      "yob1943.txt\n",
      "yob1994.txt\n",
      "yob1980.txt\n",
      "yob1981.txt\n",
      "yob1995.txt\n",
      "yob1942.txt\n",
      "yob1956.txt\n",
      "yob2009.txt\n",
      "yob1919.txt\n",
      "yob1931.txt\n",
      "yob1925.txt\n",
      "yob1886.txt\n",
      "yob1892.txt\n",
      "yob1893.txt\n",
      "yob1887.txt\n",
      "yob1924.txt\n",
      "yob1930.txt\n",
      "yob1918.txt\n",
      "yob2008.txt\n",
      "yob1926.txt\n",
      "yob1932.txt\n",
      "yob1891.txt\n",
      "yob1885.txt\n",
      "NationalReadMe.pdf\n",
      "yob1884.txt\n",
      "yob1890.txt\n",
      "yob1933.txt\n",
      "yob1927.txt\n",
      "yob1923.txt\n",
      "yob1937.txt\n",
      "yob1894.txt\n",
      "yob1880.txt\n",
      "yob1881.txt\n",
      "yob1895.txt\n",
      "yob1936.txt\n",
      "yob1922.txt\n",
      "yob1934.txt\n",
      "yob1920.txt\n",
      "yob1908.txt\n",
      "yob1883.txt\n",
      "yob1897.txt\n",
      "yob1896.txt\n",
      "yob1882.txt\n",
      "yob1909.txt\n",
      "yob1921.txt\n",
      "yob1935.txt\n"
     ]
    }
   ],
   "source": [
    "names_dir = Path('names')\n",
    "names_of_gender_dir = Path('names_per_gender')\n",
    "males_dir = names_of_gender_dir / 'males'\n",
    "females_dir = names_of_gender_dir / 'females'\n",
    "\n",
    "for file in os.listdir(names_dir):\n",
    "    print(file)"
   ]
  },
  {
   "cell_type": "code",
   "execution_count": 32,
   "metadata": {},
   "outputs": [
    {
     "ename": "FileNotFoundError",
     "evalue": "[Errno 2] No such file or directory: 'names_of_gender/males/names/yob2000.txt'",
     "output_type": "error",
     "traceback": [
      "\u001b[0;31m---------------------------------------------------------------------------\u001b[0m",
      "\u001b[0;31mFileNotFoundError\u001b[0m                         Traceback (most recent call last)",
      "\u001b[0;32m<ipython-input-32-680aba408da0>\u001b[0m in \u001b[0;36m<module>\u001b[0;34m\u001b[0m\n\u001b[1;32m      5\u001b[0m \u001b[0;32mfor\u001b[0m \u001b[0mfile\u001b[0m \u001b[0;32min\u001b[0m \u001b[0mnames_dir\u001b[0m\u001b[0;34m.\u001b[0m\u001b[0mglob\u001b[0m\u001b[0;34m(\u001b[0m\u001b[0;34m'*.txt'\u001b[0m\u001b[0;34m)\u001b[0m\u001b[0;34m:\u001b[0m\u001b[0;34m\u001b[0m\u001b[0;34m\u001b[0m\u001b[0m\n\u001b[1;32m      6\u001b[0m     \u001b[0;32mwith\u001b[0m \u001b[0mopen\u001b[0m\u001b[0;34m(\u001b[0m\u001b[0mfile\u001b[0m\u001b[0;34m)\u001b[0m \u001b[0;32mas\u001b[0m \u001b[0mname_file\u001b[0m\u001b[0;34m,\u001b[0m\u001b[0;31m\\\u001b[0m\u001b[0;34m\u001b[0m\u001b[0;34m\u001b[0m\u001b[0m\n\u001b[0;32m----> 7\u001b[0;31m          \u001b[0mopen\u001b[0m\u001b[0;34m(\u001b[0m\u001b[0mmales_dir\u001b[0m \u001b[0;34m/\u001b[0m\u001b[0mfile\u001b[0m\u001b[0;34m,\u001b[0m\u001b[0;34m'w'\u001b[0m\u001b[0;34m)\u001b[0m \u001b[0;32mas\u001b[0m \u001b[0mmale_file\u001b[0m\u001b[0;34m,\u001b[0m\u001b[0;31m\\\u001b[0m\u001b[0;34m\u001b[0m\u001b[0;34m\u001b[0m\u001b[0m\n\u001b[0m\u001b[1;32m      8\u001b[0m          \u001b[0mopen\u001b[0m\u001b[0;34m(\u001b[0m\u001b[0mfemales_dir\u001b[0m \u001b[0;34m/\u001b[0m\u001b[0mfile\u001b[0m\u001b[0;34m,\u001b[0m\u001b[0;34m'w'\u001b[0m\u001b[0;34m)\u001b[0m \u001b[0;32mas\u001b[0m \u001b[0mfemale_file\u001b[0m\u001b[0;34m:\u001b[0m\u001b[0;34m\u001b[0m\u001b[0;34m\u001b[0m\u001b[0m\n\u001b[1;32m      9\u001b[0m         \u001b[0;32mfor\u001b[0m \u001b[0mline\u001b[0m \u001b[0;32min\u001b[0m \u001b[0mname_file\u001b[0m\u001b[0;34m:\u001b[0m\u001b[0;34m\u001b[0m\u001b[0;34m\u001b[0m\u001b[0m\n",
      "\u001b[0;31mFileNotFoundError\u001b[0m: [Errno 2] No such file or directory: 'names_of_gender/males/names/yob2000.txt'"
     ]
    }
   ],
   "source": [
    "os.mkdir(names_per_gender_dir)\n",
    "os.mkdir(males_dir)\n",
    "os.mkdir(females_dir)\n",
    "\n",
    "for file in names_dir.glob('*.txt'):\n",
    "    with open(file) as name_file,\\\n",
    "         open(males_dir /file,'w') as male_file,\\\n",
    "         open(females_dir /file,'w') as female_file:\n",
    "        for line in name_file:\n",
    "            name,gender,count = line.split(',')\n",
    "            if gender == 'F':\n",
    "                print(name,count,sep=\",\",，end = '',file = female_file)\n",
    "            else:\n",
    "                print(name,count,sep=\",\",end = '', file = male_file)"
   ]
  },
  {
   "cell_type": "code",
   "execution_count": 44,
   "metadata": {},
   "outputs": [
    {
     "name": "stdout",
     "output_type": "stream",
     "text": [
      "2\n",
      "2\n"
     ]
    }
   ],
   "source": [
    "l=[2]\n",
    "print(l[0])\n",
    "print(l[-1])"
   ]
  },
  {
   "cell_type": "code",
   "execution_count": 5,
   "metadata": {},
   "outputs": [
    {
     "data": {
      "text/plain": [
       "True"
      ]
     },
     "execution_count": 5,
     "metadata": {},
     "output_type": "execute_result"
    }
   ],
   "source": [
    "Path('names')\n",
    "Path('names').exists()"
   ]
  },
  {
   "cell_type": "code",
   "execution_count": 6,
   "metadata": {},
   "outputs": [
    {
     "data": {
      "text/plain": [
       "False"
      ]
     },
     "execution_count": 6,
     "metadata": {},
     "output_type": "execute_result"
    }
   ],
   "source": [
    "Path('Skyler').exists()"
   ]
  },
  {
   "cell_type": "code",
   "execution_count": 7,
   "metadata": {},
   "outputs": [],
   "source": [
    "names_dirname = Path('names')\n",
    "names_per_gender_dirname = Path('names_per_gender')\n",
    "female_subdirname = names_per_gender_dirname / 'female'\n",
    "male_subdirname = names_per_gender_dirname / 'male'"
   ]
  },
  {
   "cell_type": "code",
   "execution_count": 8,
   "metadata": {},
   "outputs": [
    {
     "ename": "OSError",
     "evalue": "[Errno 66] Directory not empty: 'names_per_gender'",
     "output_type": "error",
     "traceback": [
      "\u001b[0;31m---------------------------------------------------------------------------\u001b[0m",
      "\u001b[0;31mOSError\u001b[0m                                   Traceback (most recent call last)",
      "\u001b[0;32m<ipython-input-8-9767e547a926>\u001b[0m in \u001b[0;36m<module>\u001b[0;34m\u001b[0m\n\u001b[1;32m      2\u001b[0m     \u001b[0mos\u001b[0m\u001b[0;34m.\u001b[0m\u001b[0mremovedirs\u001b[0m\u001b[0;34m(\u001b[0m\u001b[0mfemale_subdirname\u001b[0m\u001b[0;34m)\u001b[0m\u001b[0;34m\u001b[0m\u001b[0;34m\u001b[0m\u001b[0m\n\u001b[1;32m      3\u001b[0m     \u001b[0mos\u001b[0m\u001b[0;34m.\u001b[0m\u001b[0mremovedirs\u001b[0m\u001b[0;34m(\u001b[0m\u001b[0mmale_subdirname\u001b[0m\u001b[0;34m)\u001b[0m\u001b[0;34m\u001b[0m\u001b[0;34m\u001b[0m\u001b[0m\n\u001b[0;32m----> 4\u001b[0;31m     \u001b[0mos\u001b[0m\u001b[0;34m.\u001b[0m\u001b[0mremovedirs\u001b[0m\u001b[0;34m(\u001b[0m\u001b[0mnames_per_gender_dirname\u001b[0m\u001b[0;34m)\u001b[0m\u001b[0;34m\u001b[0m\u001b[0;34m\u001b[0m\u001b[0m\n\u001b[0m\u001b[1;32m      5\u001b[0m \u001b[0mos\u001b[0m\u001b[0;34m.\u001b[0m\u001b[0mmkdir\u001b[0m\u001b[0;34m(\u001b[0m\u001b[0mnames_per_gender_dirname\u001b[0m\u001b[0;34m)\u001b[0m\u001b[0;34m\u001b[0m\u001b[0;34m\u001b[0m\u001b[0m\n\u001b[1;32m      6\u001b[0m \u001b[0mos\u001b[0m\u001b[0;34m.\u001b[0m\u001b[0mmkdir\u001b[0m\u001b[0;34m(\u001b[0m\u001b[0mfemale_subdirname\u001b[0m\u001b[0;34m)\u001b[0m\u001b[0;34m\u001b[0m\u001b[0;34m\u001b[0m\u001b[0m\n",
      "\u001b[0;32m/Library/Frameworks/Python.framework/Versions/3.7/lib/python3.7/os.py\u001b[0m in \u001b[0;36mremovedirs\u001b[0;34m(name)\u001b[0m\n\u001b[1;32m    237\u001b[0m \u001b[0;34m\u001b[0m\u001b[0m\n\u001b[1;32m    238\u001b[0m     \"\"\"\n\u001b[0;32m--> 239\u001b[0;31m     \u001b[0mrmdir\u001b[0m\u001b[0;34m(\u001b[0m\u001b[0mname\u001b[0m\u001b[0;34m)\u001b[0m\u001b[0;34m\u001b[0m\u001b[0;34m\u001b[0m\u001b[0m\n\u001b[0m\u001b[1;32m    240\u001b[0m     \u001b[0mhead\u001b[0m\u001b[0;34m,\u001b[0m \u001b[0mtail\u001b[0m \u001b[0;34m=\u001b[0m \u001b[0mpath\u001b[0m\u001b[0;34m.\u001b[0m\u001b[0msplit\u001b[0m\u001b[0;34m(\u001b[0m\u001b[0mname\u001b[0m\u001b[0;34m)\u001b[0m\u001b[0;34m\u001b[0m\u001b[0;34m\u001b[0m\u001b[0m\n\u001b[1;32m    241\u001b[0m     \u001b[0;32mif\u001b[0m \u001b[0;32mnot\u001b[0m \u001b[0mtail\u001b[0m\u001b[0;34m:\u001b[0m\u001b[0;34m\u001b[0m\u001b[0;34m\u001b[0m\u001b[0m\n",
      "\u001b[0;31mOSError\u001b[0m: [Errno 66] Directory not empty: 'names_per_gender'"
     ]
    }
   ],
   "source": [
    "if os.path.exists(names_per_gender_dirname):\n",
    "    os.removedirs(female_subdirname)\n",
    "    os.removedirs(male_subdirname)\n",
    "    os.removedirs(names_per_gender_dirname)\n",
    "os.mkdir(names_per_gender_dirname)\n",
    "os.mkdir(female_subdirname)\n",
    "os.mkdir(male_subdirname)"
   ]
  },
  {
   "cell_type": "code",
   "execution_count": 9,
   "metadata": {},
   "outputs": [
    {
     "name": "stdout",
     "output_type": "stream",
     "text": [
      "NationalReadMe.pdf\n"
     ]
    }
   ],
   "source": [
    "for file in os.listdir(names_dirname):\n",
    "    if not file.endswith('.txt'):\n",
    "        print(file)"
   ]
  },
  {
   "cell_type": "code",
   "execution_count": 10,
   "metadata": {},
   "outputs": [
    {
     "data": {
      "text/plain": [
       "[PosixPath('names/yob2017.txt'), PosixPath('names/yob1917.txt')]"
      ]
     },
     "execution_count": 10,
     "metadata": {},
     "output_type": "execute_result"
    }
   ],
   "source": [
    "list(names_dirname.glob('*17*'))"
   ]
  },
  {
   "cell_type": "code",
   "execution_count": 11,
   "metadata": {},
   "outputs": [
    {
     "data": {
      "text/plain": [
       "PosixPath('names_per_gender/male/yob1880.txt')"
      ]
     },
     "execution_count": 11,
     "metadata": {},
     "output_type": "execute_result"
    }
   ],
   "source": [
    "filename = next(names_dirname.glob('*1880*'))\n",
    "filename\n",
    "filename.parent\n",
    "filename.name\n",
    "female_subdirname / filename.name\n",
    "male_subdirname / filename.name"
   ]
  },
  {
   "cell_type": "code",
   "execution_count": 12,
   "metadata": {},
   "outputs": [
    {
     "name": "stdout",
     "output_type": "stream",
     "text": [
      "Mary F 7065\n",
      "Anna F 2604\n",
      "Emma F 2003\n",
      "John M 9655\n",
      "William M 9532\n",
      "James M 5927\n",
      "Charles M 5348\n",
      "George M 5126\n",
      "Frank M 3242\n",
      "Joseph M 2632\n",
      "Thomas M 2534\n",
      "Henry M 2444\n",
      "Robert M 2415\n",
      "Edward M 2364\n",
      "Harry M 2152\n"
     ]
    }
   ],
   "source": [
    "with open(names_dirname / 'yob1880.txt') as file:\n",
    "    csv_file = csv.reader(file)\n",
    "    for name,gender, tally in csv_file:\n",
    "        if int(tally)>2_000:\n",
    "            print(name,gender,tally)"
   ]
  },
  {
   "cell_type": "code",
   "execution_count": 15,
   "metadata": {},
   "outputs": [
    {
     "name": "stdout",
     "output_type": "stream",
     "text": [
      "[3, 4]\n"
     ]
    }
   ],
   "source": [
    "l=[1,2,3,4,5,6,7]\n",
    "print(l[2:4])"
   ]
  },
  {
   "cell_type": "code",
   "execution_count": null,
   "metadata": {},
   "outputs": [],
   "source": []
  }
 ],
 "metadata": {
  "kernelspec": {
   "display_name": "Python 3",
   "language": "python",
   "name": "python3"
  },
  "language_info": {
   "codemirror_mode": {
    "name": "ipython",
    "version": 3
   },
   "file_extension": ".py",
   "mimetype": "text/x-python",
   "name": "python",
   "nbconvert_exporter": "python",
   "pygments_lexer": "ipython3",
   "version": "3.7.2"
  },
  "latex_envs": {
   "LaTeX_envs_menu_present": true,
   "autoclose": false,
   "autocomplete": true,
   "bibliofile": "biblio.bib",
   "cite_by": "apalike",
   "current_citInitial": 1,
   "eqLabelWithNumbers": true,
   "eqNumInitial": 1,
   "hotkeys": {
    "equation": "Ctrl-E",
    "itemize": "Ctrl-I"
   },
   "labels_anchors": false,
   "latex_user_defs": false,
   "report_style_numbering": false,
   "user_envs_cfg": false
  }
 },
 "nbformat": 4,
 "nbformat_minor": 2
}
